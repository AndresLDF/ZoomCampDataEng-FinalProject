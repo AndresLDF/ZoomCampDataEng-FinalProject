{
 "cells": [
  {
   "cell_type": "code",
   "execution_count": 1,
   "id": "2b4b031b-290a-4ca1-9fe8-b3d237aba55e",
   "metadata": {
    "execution": {
     "iopub.execute_input": "2024-04-17T12:52:08.666581Z",
     "iopub.status.busy": "2024-04-17T12:52:08.666581Z",
     "iopub.status.idle": "2024-04-17T12:52:11.135536Z",
     "shell.execute_reply": "2024-04-17T12:52:11.134561Z",
     "shell.execute_reply.started": "2024-04-17T12:52:08.666581Z"
    }
   },
   "outputs": [],
   "source": [
    "import pyspark\n",
    "import pandas as pd\n",
    "from pyspark.sql import SparkSession\n",
    "from pyspark.sql import types\n",
    "import os\n",
    "import requests\n",
    "import zipfile \n",
    "import io\n"
   ]
  },
  {
   "cell_type": "code",
   "execution_count": 2,
   "id": "230ae747-c4f0-4941-ad9d-a30aa3f95051",
   "metadata": {
    "execution": {
     "iopub.execute_input": "2024-04-17T12:52:21.234053Z",
     "iopub.status.busy": "2024-04-17T12:52:21.233055Z",
     "iopub.status.idle": "2024-04-17T12:52:38.228563Z",
     "shell.execute_reply": "2024-04-17T12:52:38.227564Z",
     "shell.execute_reply.started": "2024-04-17T12:52:21.234053Z"
    }
   },
   "outputs": [
    {
     "data": {
      "text/plain": [
       "'\\ndf = spark.read     .option(\"header\", \"true\")     .csv(\\'taxi+_zone_lookup.csv\\')\\n\\ndf.show()\\n'"
      ]
     },
     "execution_count": 2,
     "metadata": {},
     "output_type": "execute_result"
    }
   ],
   "source": [
    "pd.DataFrame.iteritems = pd.DataFrame.items\n",
    "\n",
    "spark = SparkSession.builder \\\n",
    "    .master(\"local[*]\") \\\n",
    "    .appName('test') \\\n",
    "    .getOrCreate()\n",
    "\n",
    "'''\n",
    "df = spark.read \\\n",
    "    .option(\"header\", \"true\") \\\n",
    "    .csv('taxi+_zone_lookup.csv')\n",
    "\n",
    "df.show()\n",
    "'''"
   ]
  },
  {
   "cell_type": "code",
   "execution_count": 3,
   "id": "42ab1a44-d614-4a2d-a561-d794a019ac5d",
   "metadata": {
    "execution": {
     "iopub.execute_input": "2024-04-17T12:52:38.229563Z",
     "iopub.status.busy": "2024-04-17T12:52:38.229563Z",
     "iopub.status.idle": "2024-04-17T12:52:38.244578Z",
     "shell.execute_reply": "2024-04-17T12:52:38.243577Z",
     "shell.execute_reply.started": "2024-04-17T12:52:38.229563Z"
    }
   },
   "outputs": [],
   "source": [
    "schema = types.StructType([\n",
    "    types.StructField('id_bdq', types.LongType(), True),\n",
    "    types.StructField('foco_id', types.StringType(), True),\n",
    "    types.StructField('lat', types.DoubleType(), True),\n",
    "    types.StructField('lon', types.DoubleType(), True),\n",
    "    types.StructField('data_pas', types.StringType(), True),\n",
    "    types.StructField('pais', types.StringType(), True),\n",
    "    types.StructField('estado', types.StringType(), True),\n",
    "    types.StructField('municipio', types.StringType(), True),\n",
    "    types.StructField('bioma', types.DoubleType(), True)\n",
    " ])"
   ]
  },
  {
   "cell_type": "code",
   "execution_count": null,
   "id": "81fec18c-ac2b-4e8c-91e7-f6e6043c6b33",
   "metadata": {},
   "outputs": [],
   "source": [
    "years = range(2009, 2024)\n",
    "for year in years:\n",
    "    #DOWNLOAD THE FILE FOR THE REQUESTED YEAR\n",
    "    data_url = f\"https://dataserver-coids.inpe.br/queimadas/queimadas/focos/csv/anual/AMS_sat_ref/focos_ams_ref_{year}.zip\"\n",
    "    data_url\n",
    "    focos_csv_years = {}\n",
    "    response = requests.get(data_url)\n",
    "    if response.status_code == 200:\n",
    "        with zipfile.ZipFile(io.BytesIO(response.content), 'r') as zip_file:\n",
    "            focos_csv_years[year] = zip_file.namelist()[0]\n",
    "            zip_file.extractall()\n",
    "        print(f\"Files extracted successfully. The extracted file is {focos_csv_years[year]}\")\n",
    "    else:\n",
    "        print(f\"Failed to download the file. Status code {response.satus_code}\")\n",
    "\n",
    "    #READ THE FILE FOR THE REQUESTED YEAR WITH SPARK\n",
    "    df = spark.read \\\n",
    "    .option(\"header\", \"true\") \\\n",
    "    .schema(schema) \\\n",
    "    .csv(focos_csv_years[year])\n",
    "\n",
    "    #DO THE PARTITIONS AND WRITE THEM IN THE FOLDER\n",
    "    df = df.repartition(6)\n",
    "    df.write.mode('overwrite').parquet(f'magic-zoomcamp/focus/{year}/')\n",
    "\n",
    "    #CHECK THE FILES ON THE FOLDER AND EXECUTED THE MAGE PIPELINE TO UPLOAD IT TO BUCKETS\n",
    "    parquet_path = f'magic-zoomcamp/focus/{year}/' # Construct the path to the Parquet folder\n",
    "    all_files = os.listdir(parquet_path) # List all files in the directory\n",
    "    parquet_files = [file for file in all_files if file.endswith(\".parquet\")]# Filter out only the Parquet files\n",
    "    for file_name in parquet_files:\n",
    "        print(file_name)\n",
    "        url = \"http://localhost:6789/api/pipeline_schedules/1/pipeline_runs/8d564b53ffc34c72a19fddc9ba525e9e\"\n",
    "        payload = {\n",
    "            \"pipeline_run\": {\n",
    "                \"variables\": {\n",
    "                    \"filename\": file_name,\n",
    "                    \"year\": year\n",
    "                }\n",
    "            }\n",
    "        }\n",
    "        requests.post(url, json=payload)\n",
    "\n",
    "    #EXECUTE THE SECOND MAGE PIPELINE TO TRANSFER IT FROM BUCKETS TO BIGQUERY\n",
    "    for file_name in parquet_files:\n",
    "        print(file_name)\n",
    "        url = \"http://localhost:6789/api/pipeline_schedules/2/pipeline_runs/8f6dc462027d432aa20cba31ad1ad43d\"\n",
    "        payload = {\n",
    "            \"pipeline_run\": {\n",
    "                \"variables\": {\n",
    "                    \"filename\": file_name,\n",
    "                    \"year\": year\n",
    "                }\n",
    "            }\n",
    "        }\n",
    "        requests.post(url, json=payload)"
   ]
  }
 ],
 "metadata": {
  "kernelspec": {
   "display_name": "Python 3 (ipykernel)",
   "language": "python",
   "name": "python3"
  },
  "language_info": {
   "codemirror_mode": {
    "name": "ipython",
    "version": 3
   },
   "file_extension": ".py",
   "mimetype": "text/x-python",
   "name": "python",
   "nbconvert_exporter": "python",
   "pygments_lexer": "ipython3",
   "version": "3.10.9"
  }
 },
 "nbformat": 4,
 "nbformat_minor": 5
}
