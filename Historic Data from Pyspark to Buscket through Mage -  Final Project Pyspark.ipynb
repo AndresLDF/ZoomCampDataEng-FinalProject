{
 "cells": [
  {
   "cell_type": "code",
   "execution_count": 2,
   "id": "36f3bb57-3372-494a-8aac-a586e2076e5d",
   "metadata": {
    "execution": {
     "iopub.execute_input": "2024-04-14T20:41:27.704144Z",
     "iopub.status.busy": "2024-04-14T20:41:27.703150Z",
     "iopub.status.idle": "2024-04-14T20:41:27.710415Z",
     "shell.execute_reply": "2024-04-14T20:41:27.709407Z",
     "shell.execute_reply.started": "2024-04-14T20:41:27.704144Z"
    },
    "scrolled": true
   },
   "outputs": [],
   "source": [
    "import pyspark\n",
    "import pandas as pd\n",
    "from pyspark.sql import SparkSession\n",
    "from pyspark.sql import types\n",
    "import os\n",
    "import requests\n",
    "import zipfile \n",
    "import io\n"
   ]
  },
  {
   "cell_type": "code",
   "execution_count": 3,
   "id": "0ad3172c-5bfd-4224-83b3-414945658c45",
   "metadata": {
    "execution": {
     "iopub.execute_input": "2024-04-14T20:41:27.713731Z",
     "iopub.status.busy": "2024-04-14T20:41:27.713226Z",
     "iopub.status.idle": "2024-04-14T20:41:34.757948Z",
     "shell.execute_reply": "2024-04-14T20:41:34.756036Z",
     "shell.execute_reply.started": "2024-04-14T20:41:27.713731Z"
    }
   },
   "outputs": [
    {
     "data": {
      "text/plain": [
       "'\\ndf = spark.read     .option(\"header\", \"true\")     .csv(\\'taxi+_zone_lookup.csv\\')\\n\\ndf.show()\\n'"
      ]
     },
     "execution_count": 3,
     "metadata": {},
     "output_type": "execute_result"
    }
   ],
   "source": [
    "pd.DataFrame.iteritems = pd.DataFrame.items\n",
    "\n",
    "spark = SparkSession.builder \\\n",
    "    .master(\"local[*]\") \\\n",
    "    .appName('test') \\\n",
    "    .getOrCreate()\n",
    "\n",
    "'''\n",
    "df = spark.read \\\n",
    "    .option(\"header\", \"true\") \\\n",
    "    .csv('taxi+_zone_lookup.csv')\n",
    "\n",
    "df.show()\n",
    "'''"
   ]
  },
  {
   "cell_type": "code",
   "execution_count": 4,
   "id": "1cd40dde-65e2-4704-958e-556a05963ce0",
   "metadata": {
    "execution": {
     "iopub.execute_input": "2024-04-14T20:41:34.760080Z",
     "iopub.status.busy": "2024-04-14T20:41:34.759553Z",
     "iopub.status.idle": "2024-04-14T20:41:34.772197Z",
     "shell.execute_reply": "2024-04-14T20:41:34.771195Z",
     "shell.execute_reply.started": "2024-04-14T20:41:34.759553Z"
    }
   },
   "outputs": [],
   "source": [
    "schema = types.StructType([\n",
    "    types.StructField('id_bdq', types.LongType(), True),\n",
    "    types.StructField('foco_id', types.StringType(), True),\n",
    "    types.StructField('lat', types.DoubleType(), True),\n",
    "    types.StructField('lon', types.DoubleType(), True),\n",
    "    types.StructField('data_pas', types.StringType(), True),\n",
    "    types.StructField('pais', types.StringType(), True),\n",
    "    types.StructField('estado', types.StringType(), True),\n",
    "    types.StructField('municipio', types.StringType(), True),\n",
    "    types.StructField('bioma', types.DoubleType(), True)\n",
    " ])\n",
    "\n"
   ]
  },
  {
   "cell_type": "code",
   "execution_count": 17,
   "id": "aa781cc2-e87a-4e92-8942-3c115912c5f8",
   "metadata": {
    "execution": {
     "iopub.execute_input": "2024-04-14T23:39:51.575498Z",
     "iopub.status.busy": "2024-04-14T23:39:51.567398Z",
     "iopub.status.idle": "2024-04-14T23:42:02.280560Z",
     "shell.execute_reply": "2024-04-14T23:42:02.276564Z",
     "shell.execute_reply.started": "2024-04-14T23:39:51.574403Z"
    }
   },
   "outputs": [
    {
     "name": "stdout",
     "output_type": "stream",
     "text": [
      "Files extracted successfully. The extracted file is focos_ams_ref_2009.csv\n",
      "part-00000-b8bafba3-3e58-47a5-896f-54ae71d4b75e-c000.snappy.parquet\n",
      "part-00001-b8bafba3-3e58-47a5-896f-54ae71d4b75e-c000.snappy.parquet\n",
      "part-00002-b8bafba3-3e58-47a5-896f-54ae71d4b75e-c000.snappy.parquet\n",
      "part-00003-b8bafba3-3e58-47a5-896f-54ae71d4b75e-c000.snappy.parquet\n",
      "part-00004-b8bafba3-3e58-47a5-896f-54ae71d4b75e-c000.snappy.parquet\n",
      "part-00005-b8bafba3-3e58-47a5-896f-54ae71d4b75e-c000.snappy.parquet\n",
      "Files extracted successfully. The extracted file is focos_ams_ref_2010.csv\n",
      "part-00000-554b81c1-056b-469f-8a04-45807fb8b582-c000.snappy.parquet\n",
      "part-00001-554b81c1-056b-469f-8a04-45807fb8b582-c000.snappy.parquet\n",
      "part-00002-554b81c1-056b-469f-8a04-45807fb8b582-c000.snappy.parquet\n",
      "part-00003-554b81c1-056b-469f-8a04-45807fb8b582-c000.snappy.parquet\n",
      "part-00004-554b81c1-056b-469f-8a04-45807fb8b582-c000.snappy.parquet\n",
      "part-00005-554b81c1-056b-469f-8a04-45807fb8b582-c000.snappy.parquet\n",
      "Files extracted successfully. The extracted file is focos_ams_ref_2011.csv\n",
      "part-00000-20485b20-28db-45c0-bd20-58fcd79dc732-c000.snappy.parquet\n",
      "part-00001-20485b20-28db-45c0-bd20-58fcd79dc732-c000.snappy.parquet\n",
      "part-00002-20485b20-28db-45c0-bd20-58fcd79dc732-c000.snappy.parquet\n",
      "part-00003-20485b20-28db-45c0-bd20-58fcd79dc732-c000.snappy.parquet\n",
      "part-00004-20485b20-28db-45c0-bd20-58fcd79dc732-c000.snappy.parquet\n",
      "part-00005-20485b20-28db-45c0-bd20-58fcd79dc732-c000.snappy.parquet\n",
      "Files extracted successfully. The extracted file is focos_ams_ref_2012.csv\n",
      "part-00000-69960636-f9e1-400a-ba29-9122544acd23-c000.snappy.parquet\n",
      "part-00001-69960636-f9e1-400a-ba29-9122544acd23-c000.snappy.parquet\n",
      "part-00002-69960636-f9e1-400a-ba29-9122544acd23-c000.snappy.parquet\n",
      "part-00003-69960636-f9e1-400a-ba29-9122544acd23-c000.snappy.parquet\n",
      "part-00004-69960636-f9e1-400a-ba29-9122544acd23-c000.snappy.parquet\n",
      "part-00005-69960636-f9e1-400a-ba29-9122544acd23-c000.snappy.parquet\n",
      "Files extracted successfully. The extracted file is focos_ams_ref_2013.csv\n",
      "part-00000-1a0865b5-9c2e-4a10-8855-916be03415f5-c000.snappy.parquet\n",
      "part-00001-1a0865b5-9c2e-4a10-8855-916be03415f5-c000.snappy.parquet\n",
      "part-00002-1a0865b5-9c2e-4a10-8855-916be03415f5-c000.snappy.parquet\n",
      "part-00003-1a0865b5-9c2e-4a10-8855-916be03415f5-c000.snappy.parquet\n",
      "part-00004-1a0865b5-9c2e-4a10-8855-916be03415f5-c000.snappy.parquet\n",
      "part-00005-1a0865b5-9c2e-4a10-8855-916be03415f5-c000.snappy.parquet\n",
      "Files extracted successfully. The extracted file is focos_ams_ref_2014.csv\n",
      "part-00000-996a146f-ed0a-48bd-a182-ed9f0268cfa3-c000.snappy.parquet\n",
      "part-00001-996a146f-ed0a-48bd-a182-ed9f0268cfa3-c000.snappy.parquet\n",
      "part-00002-996a146f-ed0a-48bd-a182-ed9f0268cfa3-c000.snappy.parquet\n",
      "part-00003-996a146f-ed0a-48bd-a182-ed9f0268cfa3-c000.snappy.parquet\n",
      "part-00004-996a146f-ed0a-48bd-a182-ed9f0268cfa3-c000.snappy.parquet\n",
      "part-00005-996a146f-ed0a-48bd-a182-ed9f0268cfa3-c000.snappy.parquet\n",
      "Files extracted successfully. The extracted file is focos_ams_ref_2015.csv\n",
      "part-00000-9a50e9b2-9b77-4cd8-a2d8-146fe0ad90a7-c000.snappy.parquet\n",
      "part-00001-9a50e9b2-9b77-4cd8-a2d8-146fe0ad90a7-c000.snappy.parquet\n",
      "part-00002-9a50e9b2-9b77-4cd8-a2d8-146fe0ad90a7-c000.snappy.parquet\n",
      "part-00003-9a50e9b2-9b77-4cd8-a2d8-146fe0ad90a7-c000.snappy.parquet\n",
      "part-00004-9a50e9b2-9b77-4cd8-a2d8-146fe0ad90a7-c000.snappy.parquet\n",
      "part-00005-9a50e9b2-9b77-4cd8-a2d8-146fe0ad90a7-c000.snappy.parquet\n",
      "Files extracted successfully. The extracted file is focos_ams_ref_2016.csv\n",
      "part-00000-359aec52-c2c0-47c0-83a0-4c6cdc0206c9-c000.snappy.parquet\n",
      "part-00001-359aec52-c2c0-47c0-83a0-4c6cdc0206c9-c000.snappy.parquet\n",
      "part-00002-359aec52-c2c0-47c0-83a0-4c6cdc0206c9-c000.snappy.parquet\n",
      "part-00003-359aec52-c2c0-47c0-83a0-4c6cdc0206c9-c000.snappy.parquet\n",
      "part-00004-359aec52-c2c0-47c0-83a0-4c6cdc0206c9-c000.snappy.parquet\n",
      "part-00005-359aec52-c2c0-47c0-83a0-4c6cdc0206c9-c000.snappy.parquet\n",
      "Files extracted successfully. The extracted file is focos_ams_ref_2017.csv\n",
      "part-00000-9e7d0eb1-63db-4f09-a008-045fc6bd1c84-c000.snappy.parquet\n",
      "part-00001-9e7d0eb1-63db-4f09-a008-045fc6bd1c84-c000.snappy.parquet\n",
      "part-00002-9e7d0eb1-63db-4f09-a008-045fc6bd1c84-c000.snappy.parquet\n",
      "part-00003-9e7d0eb1-63db-4f09-a008-045fc6bd1c84-c000.snappy.parquet\n",
      "part-00004-9e7d0eb1-63db-4f09-a008-045fc6bd1c84-c000.snappy.parquet\n",
      "part-00005-9e7d0eb1-63db-4f09-a008-045fc6bd1c84-c000.snappy.parquet\n",
      "Files extracted successfully. The extracted file is focos_ams_ref_2018.csv\n",
      "part-00000-6d8d7a34-bc67-4e11-8c3b-dc9f745035b9-c000.snappy.parquet\n",
      "part-00001-6d8d7a34-bc67-4e11-8c3b-dc9f745035b9-c000.snappy.parquet\n",
      "part-00002-6d8d7a34-bc67-4e11-8c3b-dc9f745035b9-c000.snappy.parquet\n",
      "part-00003-6d8d7a34-bc67-4e11-8c3b-dc9f745035b9-c000.snappy.parquet\n",
      "part-00004-6d8d7a34-bc67-4e11-8c3b-dc9f745035b9-c000.snappy.parquet\n",
      "part-00005-6d8d7a34-bc67-4e11-8c3b-dc9f745035b9-c000.snappy.parquet\n",
      "Files extracted successfully. The extracted file is focos_ams_ref_2019.csv\n",
      "part-00000-06490c43-5b19-4164-a012-e09514d6c184-c000.snappy.parquet\n",
      "part-00001-06490c43-5b19-4164-a012-e09514d6c184-c000.snappy.parquet\n",
      "part-00002-06490c43-5b19-4164-a012-e09514d6c184-c000.snappy.parquet\n",
      "part-00003-06490c43-5b19-4164-a012-e09514d6c184-c000.snappy.parquet\n",
      "part-00004-06490c43-5b19-4164-a012-e09514d6c184-c000.snappy.parquet\n",
      "part-00005-06490c43-5b19-4164-a012-e09514d6c184-c000.snappy.parquet\n",
      "Files extracted successfully. The extracted file is focos_ams_ref_2020.csv\n",
      "part-00000-2d3381bf-bc58-4895-b9c3-729c18eb335c-c000.snappy.parquet\n",
      "part-00001-2d3381bf-bc58-4895-b9c3-729c18eb335c-c000.snappy.parquet\n",
      "part-00002-2d3381bf-bc58-4895-b9c3-729c18eb335c-c000.snappy.parquet\n",
      "part-00003-2d3381bf-bc58-4895-b9c3-729c18eb335c-c000.snappy.parquet\n",
      "part-00004-2d3381bf-bc58-4895-b9c3-729c18eb335c-c000.snappy.parquet\n",
      "part-00005-2d3381bf-bc58-4895-b9c3-729c18eb335c-c000.snappy.parquet\n",
      "Files extracted successfully. The extracted file is focos_ams_ref_2021.csv\n",
      "part-00000-ddd702d9-3395-476e-b2bc-55a422d11cf1-c000.snappy.parquet\n",
      "part-00001-ddd702d9-3395-476e-b2bc-55a422d11cf1-c000.snappy.parquet\n",
      "part-00002-ddd702d9-3395-476e-b2bc-55a422d11cf1-c000.snappy.parquet\n",
      "part-00003-ddd702d9-3395-476e-b2bc-55a422d11cf1-c000.snappy.parquet\n",
      "part-00004-ddd702d9-3395-476e-b2bc-55a422d11cf1-c000.snappy.parquet\n",
      "part-00005-ddd702d9-3395-476e-b2bc-55a422d11cf1-c000.snappy.parquet\n",
      "Files extracted successfully. The extracted file is focos_ams_ref_2022.csv\n",
      "part-00000-d3ef0d7d-f477-4878-a80e-9150ccc2fbde-c000.snappy.parquet\n",
      "part-00001-d3ef0d7d-f477-4878-a80e-9150ccc2fbde-c000.snappy.parquet\n",
      "part-00002-d3ef0d7d-f477-4878-a80e-9150ccc2fbde-c000.snappy.parquet\n",
      "part-00003-d3ef0d7d-f477-4878-a80e-9150ccc2fbde-c000.snappy.parquet\n",
      "part-00004-d3ef0d7d-f477-4878-a80e-9150ccc2fbde-c000.snappy.parquet\n",
      "part-00005-d3ef0d7d-f477-4878-a80e-9150ccc2fbde-c000.snappy.parquet\n",
      "Files extracted successfully. The extracted file is focos_ams_ref_2023.csv\n",
      "part-00000-40e6ae8a-7370-4b4e-b2e4-637ddbd84e50-c000.snappy.parquet\n",
      "part-00001-40e6ae8a-7370-4b4e-b2e4-637ddbd84e50-c000.snappy.parquet\n",
      "part-00002-40e6ae8a-7370-4b4e-b2e4-637ddbd84e50-c000.snappy.parquet\n",
      "part-00003-40e6ae8a-7370-4b4e-b2e4-637ddbd84e50-c000.snappy.parquet\n",
      "part-00004-40e6ae8a-7370-4b4e-b2e4-637ddbd84e50-c000.snappy.parquet\n",
      "part-00005-40e6ae8a-7370-4b4e-b2e4-637ddbd84e50-c000.snappy.parquet\n"
     ]
    }
   ],
   "source": [
    "\n",
    "years = range(2009, 2024)\n",
    "for year in years:\n",
    "    #DOWNLOAD THE FILE FOR THE REQUESTED YEAR\n",
    "    data_url = f\"https://dataserver-coids.inpe.br/queimadas/queimadas/focos/csv/anual/AMS_sat_ref/focos_ams_ref_{year}.zip\"\n",
    "    data_url\n",
    "    focos_csv_years = {}\n",
    "    response = requests.get(data_url)\n",
    "    if response.status_code == 200:\n",
    "        with zipfile.ZipFile(io.BytesIO(response.content), 'r') as zip_file:\n",
    "            focos_csv_years[year] = zip_file.namelist()[0]\n",
    "            zip_file.extractall()\n",
    "        print(f\"Files extracted successfully. The extracted file is {focos_csv_years[year]}\")\n",
    "    else:\n",
    "        print(f\"Failed to download the file. Status code {response.satus_code}\")\n",
    "\n",
    "    #READ THE FILE FOR THE REQUESTED YEAR WITH SPARK\n",
    "    df = spark.read \\\n",
    "    .option(\"header\", \"true\") \\\n",
    "    .schema(schema) \\\n",
    "    .csv(focos_csv_years[year])\n",
    "\n",
    "    #DO THE PARTITIONS AND WRITE THEM IN THE FOLDER\n",
    "    df = df.repartition(6)\n",
    "    df.write.mode('overwrite').parquet(f'magic-zoomcamp/focus/{year}/')\n",
    "\n",
    "    #CHECK THE FILES ON THE FOLDER AND EXECUTED THE MAGE PIPELINE\n",
    "    parquet_path = f'magic-zoomcamp/focus/{year}/' # Construct the path to the Parquet folder\n",
    "    all_files = os.listdir(parquet_path) # List all files in the directory\n",
    "    parquet_files = [file for file in all_files if file.endswith(\".parquet\")]# Filter out only the Parquet files\n",
    "    for file_name in parquet_files:\n",
    "        print(file_name)\n",
    "        url = \"http://localhost:6789/api/pipeline_schedules/1/pipeline_runs/8d564b53ffc34c72a19fddc9ba525e9e\"\n",
    "        payload = {\n",
    "            \"pipeline_run\": {\n",
    "                \"variables\": {\n",
    "                    \"filename\": file_name,\n",
    "                    \"year\": year\n",
    "                }\n",
    "            }\n",
    "        }\n",
    "        requests.post(url, json=payload)\n",
    "\n",
    " \n",
    "\n"
   ]
  },
  {
   "cell_type": "code",
   "execution_count": null,
   "id": "c125dcec-f2b1-4b2a-a0bb-dfe86b6be0a6",
   "metadata": {},
   "outputs": [],
   "source": []
  }
 ],
 "metadata": {
  "kernelspec": {
   "display_name": "Python 3 (ipykernel)",
   "language": "python",
   "name": "python3"
  },
  "language_info": {
   "codemirror_mode": {
    "name": "ipython",
    "version": 3
   },
   "file_extension": ".py",
   "mimetype": "text/x-python",
   "name": "python",
   "nbconvert_exporter": "python",
   "pygments_lexer": "ipython3",
   "version": "3.10.9"
  }
 },
 "nbformat": 4,
 "nbformat_minor": 5
}
