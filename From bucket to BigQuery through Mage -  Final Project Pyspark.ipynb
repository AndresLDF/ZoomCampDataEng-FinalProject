{
 "cells": [
  {
   "cell_type": "code",
   "execution_count": 1,
   "id": "36f3bb57-3372-494a-8aac-a586e2076e5d",
   "metadata": {
    "execution": {
     "iopub.execute_input": "2024-04-15T20:31:42.968968Z",
     "iopub.status.busy": "2024-04-15T20:31:42.968968Z",
     "iopub.status.idle": "2024-04-15T20:31:43.086259Z",
     "shell.execute_reply": "2024-04-15T20:31:43.085342Z",
     "shell.execute_reply.started": "2024-04-15T20:31:42.968968Z"
    },
    "scrolled": true
   },
   "outputs": [],
   "source": [
    "import os\n",
    "import requests\n",
    "import io\n"
   ]
  },
  {
   "cell_type": "code",
   "execution_count": 2,
   "id": "aa781cc2-e87a-4e92-8942-3c115912c5f8",
   "metadata": {
    "execution": {
     "iopub.execute_input": "2024-04-15T20:32:18.562133Z",
     "iopub.status.busy": "2024-04-15T20:32:18.562133Z",
     "iopub.status.idle": "2024-04-15T20:32:28.851550Z",
     "shell.execute_reply": "2024-04-15T20:32:28.849898Z",
     "shell.execute_reply.started": "2024-04-15T20:32:18.562133Z"
    }
   },
   "outputs": [
    {
     "name": "stdout",
     "output_type": "stream",
     "text": [
      "part-00000-69960636-f9e1-400a-ba29-9122544acd23-c000.snappy.parquet\n",
      "part-00001-69960636-f9e1-400a-ba29-9122544acd23-c000.snappy.parquet\n",
      "part-00002-69960636-f9e1-400a-ba29-9122544acd23-c000.snappy.parquet\n",
      "part-00003-69960636-f9e1-400a-ba29-9122544acd23-c000.snappy.parquet\n",
      "part-00004-69960636-f9e1-400a-ba29-9122544acd23-c000.snappy.parquet\n",
      "part-00005-69960636-f9e1-400a-ba29-9122544acd23-c000.snappy.parquet\n",
      "part-00000-1a0865b5-9c2e-4a10-8855-916be03415f5-c000.snappy.parquet\n",
      "part-00001-1a0865b5-9c2e-4a10-8855-916be03415f5-c000.snappy.parquet\n",
      "part-00002-1a0865b5-9c2e-4a10-8855-916be03415f5-c000.snappy.parquet\n",
      "part-00003-1a0865b5-9c2e-4a10-8855-916be03415f5-c000.snappy.parquet\n",
      "part-00004-1a0865b5-9c2e-4a10-8855-916be03415f5-c000.snappy.parquet\n",
      "part-00005-1a0865b5-9c2e-4a10-8855-916be03415f5-c000.snappy.parquet\n",
      "part-00000-996a146f-ed0a-48bd-a182-ed9f0268cfa3-c000.snappy.parquet\n",
      "part-00001-996a146f-ed0a-48bd-a182-ed9f0268cfa3-c000.snappy.parquet\n",
      "part-00002-996a146f-ed0a-48bd-a182-ed9f0268cfa3-c000.snappy.parquet\n",
      "part-00003-996a146f-ed0a-48bd-a182-ed9f0268cfa3-c000.snappy.parquet\n",
      "part-00004-996a146f-ed0a-48bd-a182-ed9f0268cfa3-c000.snappy.parquet\n",
      "part-00005-996a146f-ed0a-48bd-a182-ed9f0268cfa3-c000.snappy.parquet\n"
     ]
    }
   ],
   "source": [
    "\n",
    "years = range(2012, 2015)\n",
    "for year in years:\n",
    "    parquet_path = f'magic-zoomcamp/focus/{year}/' # Construct the path to the Parquet folder\n",
    "    all_files = os.listdir(parquet_path) # List all files in the directory\n",
    "    parquet_files = [file for file in all_files if file.endswith(\".parquet\")]# Filter out only the Parquet files\n",
    "    for file_name in parquet_files:\n",
    "        print(file_name)\n",
    "        url = \"http://localhost:6789/api/pipeline_schedules/2/pipeline_runs/8f6dc462027d432aa20cba31ad1ad43d\"\n",
    "        payload = {\n",
    "            \"pipeline_run\": {\n",
    "                \"variables\": {\n",
    "                    \"filename\": file_name,\n",
    "                    \"year\": year\n",
    "                }\n",
    "            }\n",
    "        }\n",
    "        requests.post(url, json=payload)\n"
   ]
  },
  {
   "cell_type": "code",
   "execution_count": null,
   "id": "c125dcec-f2b1-4b2a-a0bb-dfe86b6be0a6",
   "metadata": {},
   "outputs": [],
   "source": []
  }
 ],
 "metadata": {
  "kernelspec": {
   "display_name": "Python 3 (ipykernel)",
   "language": "python",
   "name": "python3"
  },
  "language_info": {
   "codemirror_mode": {
    "name": "ipython",
    "version": 3
   },
   "file_extension": ".py",
   "mimetype": "text/x-python",
   "name": "python",
   "nbconvert_exporter": "python",
   "pygments_lexer": "ipython3",
   "version": "3.10.9"
  }
 },
 "nbformat": 4,
 "nbformat_minor": 5
}
